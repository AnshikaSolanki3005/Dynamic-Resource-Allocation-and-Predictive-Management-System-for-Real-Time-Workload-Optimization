{
 "cells": [
  {
   "cell_type": "markdown",
   "metadata": {},
   "source": [
    "# Dynamic Resource Allocation with MLOPS integration in Telecommunication Cloud Environments "
   ]
  },
  {
   "cell_type": "markdown",
   "metadata": {},
   "source": [
    "### Life Cycle of the Project"
   ]
  },
  {
   "cell_type": "markdown",
   "metadata": {},
   "source": [
    "* Understanding the Problem Statement\n",
    "* Data Collection\n",
    "* Data-preprocessing\n",
    "* Exploratory Data Analysis\n",
    "* Model Training\n",
    "* Model Selection"
   ]
  },
  {
   "cell_type": "markdown",
   "metadata": {
    "vscode": {
     "languageId": "plaintext"
    }
   },
   "source": [
    "### 1. Problem Statement"
   ]
  },
  {
   "cell_type": "markdown",
   "metadata": {},
   "source": [
    "Telecommunication cloud systems need to manage and allocate resources like computing power, storage, and bandwidth to handle changing user demands. The challenge is to do this efficiently while ensuring good service quality, reducing costs, and saving energy. These systems also need to handle multiple virtual networks, make quick decisions, and stay reliable even if something goes wrong. The goal is to create a system that uses resources wisely, adapts to changes, and works smoothly for all users."
   ]
  },
  {
   "cell_type": "markdown",
   "metadata": {},
   "source": [
    "### 2. Data Collection"
   ]
  },
  {
   "cell_type": "markdown",
   "metadata": {},
   "source": [
    "* Data Source : https://data.niaid.nih.gov/resources?id=zenodo_10245447\n",
    "\n",
    "\n",
    "* Data consists in three csv files - \n",
    "\n",
    "\n",
    "        * pods_request_workloads.csv - It consists 7 Columns and Rows\n",
    "                                (which are 'timestamp', 'uid', 'node', 'cpu', 'memory', 'nvidia_com', 'scenario')\n",
    "\n",
    "        * nodes_allocatable.csv - It consists 8 Columns and Rows\n",
    "                                (which are 'timestamp', 'node', 'cpu', 'memory', 'nvidia_com', 'status', 'condition', 'scenario')\n"
   ]
  },
  {
   "cell_type": "markdown",
   "metadata": {},
   "source": [
    "We'll merge the dataset because most of the attributes are same "
   ]
  },
  {
   "cell_type": "markdown",
   "metadata": {},
   "source": [
    "##### 2.1 Import Data and Required Packages  / Libraries"
   ]
  },
  {
   "cell_type": "markdown",
   "metadata": {},
   "source": [
    "* IMPORTING LIBRARIES"
   ]
  },
  {
   "cell_type": "code",
   "execution_count": 1,
   "metadata": {},
   "outputs": [],
   "source": [
    "import numpy as numpy\n",
    "import pandas as pd\n",
    "import seaborn as sns\n",
    "import matplotlib.pyplot as plt\n",
    "%matplotlib inline\n",
    "from sklearn.preprocessing import LabelEncoder # type: ignore\n",
    "from sklearn.preprocessing import StandardScaler"
   ]
  },
  {
   "cell_type": "markdown",
   "metadata": {},
   "source": [
    "* IMPORTING DATASETS"
   ]
  },
  {
   "cell_type": "code",
   "execution_count": 3,
   "metadata": {},
   "outputs": [],
   "source": [
    "data= pd.read_csv(\"data.csv\")"
   ]
  },
  {
   "cell_type": "code",
   "execution_count": 4,
   "metadata": {},
   "outputs": [
    {
     "data": {
      "text/html": [
       "<div>\n",
       "<style scoped>\n",
       "    .dataframe tbody tr th:only-of-type {\n",
       "        vertical-align: middle;\n",
       "    }\n",
       "\n",
       "    .dataframe tbody tr th {\n",
       "        vertical-align: top;\n",
       "    }\n",
       "\n",
       "    .dataframe thead th {\n",
       "        text-align: right;\n",
       "    }\n",
       "</style>\n",
       "<table border=\"1\" class=\"dataframe\">\n",
       "  <thead>\n",
       "    <tr style=\"text-align: right;\">\n",
       "      <th></th>\n",
       "      <th>timestamp</th>\n",
       "      <th>node</th>\n",
       "      <th>cpu_workloads</th>\n",
       "      <th>memory_workloads</th>\n",
       "      <th>nvidia_com_gpu_workloads</th>\n",
       "      <th>status</th>\n",
       "      <th>condition</th>\n",
       "      <th>scenario_workloads</th>\n",
       "      <th>uid</th>\n",
       "      <th>cpu_allocatable</th>\n",
       "      <th>memory_allocatable</th>\n",
       "      <th>nvidia_com_gpu_allocatable</th>\n",
       "      <th>scenario_allocatable</th>\n",
       "    </tr>\n",
       "  </thead>\n",
       "  <tbody>\n",
       "    <tr>\n",
       "      <th>0</th>\n",
       "      <td>2023-10-13 12:04:00</td>\n",
       "      <td>0xozF0md0I</td>\n",
       "      <td>7.91</td>\n",
       "      <td>14684.878906</td>\n",
       "      <td>0.0</td>\n",
       "      <td>NaN</td>\n",
       "      <td>NaN</td>\n",
       "      <td>1</td>\n",
       "      <td>0a7e3149-7520-44af-be02-6cb0ede2109d</td>\n",
       "      <td>0.100</td>\n",
       "      <td>0.0</td>\n",
       "      <td>0.0</td>\n",
       "      <td>A</td>\n",
       "    </tr>\n",
       "    <tr>\n",
       "      <th>1</th>\n",
       "      <td>2023-10-13 12:04:00</td>\n",
       "      <td>0xozF0md0I</td>\n",
       "      <td>7.91</td>\n",
       "      <td>14684.878906</td>\n",
       "      <td>0.0</td>\n",
       "      <td>NaN</td>\n",
       "      <td>NaN</td>\n",
       "      <td>1</td>\n",
       "      <td>327fff0d-3d9d-4c99-8e0d-f8581dfa7373</td>\n",
       "      <td>0.010</td>\n",
       "      <td>40.0</td>\n",
       "      <td>0.0</td>\n",
       "      <td>A</td>\n",
       "    </tr>\n",
       "    <tr>\n",
       "      <th>2</th>\n",
       "      <td>2023-10-13 12:04:00</td>\n",
       "      <td>0xozF0md0I</td>\n",
       "      <td>7.91</td>\n",
       "      <td>14684.878906</td>\n",
       "      <td>0.0</td>\n",
       "      <td>NaN</td>\n",
       "      <td>NaN</td>\n",
       "      <td>1</td>\n",
       "      <td>40054bfd-b720-4f90-86c2-974e227c178f</td>\n",
       "      <td>0.025</td>\n",
       "      <td>0.0</td>\n",
       "      <td>0.0</td>\n",
       "      <td>A</td>\n",
       "    </tr>\n",
       "    <tr>\n",
       "      <th>3</th>\n",
       "      <td>2023-10-13 12:04:00</td>\n",
       "      <td>1uYdt27oKb</td>\n",
       "      <td>7.91</td>\n",
       "      <td>14684.878906</td>\n",
       "      <td>0.0</td>\n",
       "      <td>NaN</td>\n",
       "      <td>NaN</td>\n",
       "      <td>1</td>\n",
       "      <td>234bebd4-85d4-4068-8dde-0b2a43fc7940</td>\n",
       "      <td>0.100</td>\n",
       "      <td>0.0</td>\n",
       "      <td>0.0</td>\n",
       "      <td>A</td>\n",
       "    </tr>\n",
       "    <tr>\n",
       "      <th>4</th>\n",
       "      <td>2023-10-13 12:04:00</td>\n",
       "      <td>1uYdt27oKb</td>\n",
       "      <td>7.91</td>\n",
       "      <td>14684.878906</td>\n",
       "      <td>0.0</td>\n",
       "      <td>NaN</td>\n",
       "      <td>NaN</td>\n",
       "      <td>1</td>\n",
       "      <td>8619d1f4-7029-4425-9f99-725dcb545709</td>\n",
       "      <td>0.010</td>\n",
       "      <td>40.0</td>\n",
       "      <td>0.0</td>\n",
       "      <td>A</td>\n",
       "    </tr>\n",
       "    <tr>\n",
       "      <th>...</th>\n",
       "      <td>...</td>\n",
       "      <td>...</td>\n",
       "      <td>...</td>\n",
       "      <td>...</td>\n",
       "      <td>...</td>\n",
       "      <td>...</td>\n",
       "      <td>...</td>\n",
       "      <td>...</td>\n",
       "      <td>...</td>\n",
       "      <td>...</td>\n",
       "      <td>...</td>\n",
       "      <td>...</td>\n",
       "      <td>...</td>\n",
       "    </tr>\n",
       "    <tr>\n",
       "      <th>49995</th>\n",
       "      <td>2023-10-13 14:00:30</td>\n",
       "      <td>br8L3VA52I</td>\n",
       "      <td>31.85</td>\n",
       "      <td>60211.082031</td>\n",
       "      <td>0.0</td>\n",
       "      <td>True</td>\n",
       "      <td>Ready</td>\n",
       "      <td>1</td>\n",
       "      <td>8ced0d0c-3827-4c84-a5ec-39f7e36516a3</td>\n",
       "      <td>1.000</td>\n",
       "      <td>1024.0</td>\n",
       "      <td>0.0</td>\n",
       "      <td>A</td>\n",
       "    </tr>\n",
       "    <tr>\n",
       "      <th>49996</th>\n",
       "      <td>2023-10-13 14:00:30</td>\n",
       "      <td>br8L3VA52I</td>\n",
       "      <td>31.85</td>\n",
       "      <td>60211.082031</td>\n",
       "      <td>0.0</td>\n",
       "      <td>True</td>\n",
       "      <td>Ready</td>\n",
       "      <td>1</td>\n",
       "      <td>989b4d2b-1b55-40d3-ab5c-03f048ab1233</td>\n",
       "      <td>1.000</td>\n",
       "      <td>1024.0</td>\n",
       "      <td>0.0</td>\n",
       "      <td>A</td>\n",
       "    </tr>\n",
       "    <tr>\n",
       "      <th>49997</th>\n",
       "      <td>2023-10-13 14:00:30</td>\n",
       "      <td>br8L3VA52I</td>\n",
       "      <td>31.85</td>\n",
       "      <td>60211.082031</td>\n",
       "      <td>0.0</td>\n",
       "      <td>True</td>\n",
       "      <td>Ready</td>\n",
       "      <td>1</td>\n",
       "      <td>9e1c81e4-3a39-407e-91c3-b2839fe44e45</td>\n",
       "      <td>0.025</td>\n",
       "      <td>0.0</td>\n",
       "      <td>0.0</td>\n",
       "      <td>A</td>\n",
       "    </tr>\n",
       "    <tr>\n",
       "      <th>49998</th>\n",
       "      <td>2023-10-13 14:00:30</td>\n",
       "      <td>br8L3VA52I</td>\n",
       "      <td>31.85</td>\n",
       "      <td>60211.082031</td>\n",
       "      <td>0.0</td>\n",
       "      <td>True</td>\n",
       "      <td>Ready</td>\n",
       "      <td>1</td>\n",
       "      <td>9f50dada-a620-4125-8f6b-4ad843f987a0</td>\n",
       "      <td>0.010</td>\n",
       "      <td>40.0</td>\n",
       "      <td>0.0</td>\n",
       "      <td>A</td>\n",
       "    </tr>\n",
       "    <tr>\n",
       "      <th>49999</th>\n",
       "      <td>2023-10-13 14:00:30</td>\n",
       "      <td>br8L3VA52I</td>\n",
       "      <td>31.85</td>\n",
       "      <td>60211.082031</td>\n",
       "      <td>0.0</td>\n",
       "      <td>True</td>\n",
       "      <td>Ready</td>\n",
       "      <td>1</td>\n",
       "      <td>a315739a-5de8-4faf-806b-fe1d28c953b7</td>\n",
       "      <td>1.000</td>\n",
       "      <td>1024.0</td>\n",
       "      <td>0.0</td>\n",
       "      <td>A</td>\n",
       "    </tr>\n",
       "  </tbody>\n",
       "</table>\n",
       "<p>50000 rows × 13 columns</p>\n",
       "</div>"
      ],
      "text/plain": [
       "                 timestamp        node  cpu_workloads  memory_workloads  \\\n",
       "0      2023-10-13 12:04:00  0xozF0md0I           7.91      14684.878906   \n",
       "1      2023-10-13 12:04:00  0xozF0md0I           7.91      14684.878906   \n",
       "2      2023-10-13 12:04:00  0xozF0md0I           7.91      14684.878906   \n",
       "3      2023-10-13 12:04:00  1uYdt27oKb           7.91      14684.878906   \n",
       "4      2023-10-13 12:04:00  1uYdt27oKb           7.91      14684.878906   \n",
       "...                    ...         ...            ...               ...   \n",
       "49995  2023-10-13 14:00:30  br8L3VA52I          31.85      60211.082031   \n",
       "49996  2023-10-13 14:00:30  br8L3VA52I          31.85      60211.082031   \n",
       "49997  2023-10-13 14:00:30  br8L3VA52I          31.85      60211.082031   \n",
       "49998  2023-10-13 14:00:30  br8L3VA52I          31.85      60211.082031   \n",
       "49999  2023-10-13 14:00:30  br8L3VA52I          31.85      60211.082031   \n",
       "\n",
       "       nvidia_com_gpu_workloads status condition  scenario_workloads  \\\n",
       "0                           0.0    NaN       NaN                   1   \n",
       "1                           0.0    NaN       NaN                   1   \n",
       "2                           0.0    NaN       NaN                   1   \n",
       "3                           0.0    NaN       NaN                   1   \n",
       "4                           0.0    NaN       NaN                   1   \n",
       "...                         ...    ...       ...                 ...   \n",
       "49995                       0.0   True     Ready                   1   \n",
       "49996                       0.0   True     Ready                   1   \n",
       "49997                       0.0   True     Ready                   1   \n",
       "49998                       0.0   True     Ready                   1   \n",
       "49999                       0.0   True     Ready                   1   \n",
       "\n",
       "                                        uid  cpu_allocatable  \\\n",
       "0      0a7e3149-7520-44af-be02-6cb0ede2109d            0.100   \n",
       "1      327fff0d-3d9d-4c99-8e0d-f8581dfa7373            0.010   \n",
       "2      40054bfd-b720-4f90-86c2-974e227c178f            0.025   \n",
       "3      234bebd4-85d4-4068-8dde-0b2a43fc7940            0.100   \n",
       "4      8619d1f4-7029-4425-9f99-725dcb545709            0.010   \n",
       "...                                     ...              ...   \n",
       "49995  8ced0d0c-3827-4c84-a5ec-39f7e36516a3            1.000   \n",
       "49996  989b4d2b-1b55-40d3-ab5c-03f048ab1233            1.000   \n",
       "49997  9e1c81e4-3a39-407e-91c3-b2839fe44e45            0.025   \n",
       "49998  9f50dada-a620-4125-8f6b-4ad843f987a0            0.010   \n",
       "49999  a315739a-5de8-4faf-806b-fe1d28c953b7            1.000   \n",
       "\n",
       "       memory_allocatable  nvidia_com_gpu_allocatable scenario_allocatable  \n",
       "0                     0.0                         0.0                    A  \n",
       "1                    40.0                         0.0                    A  \n",
       "2                     0.0                         0.0                    A  \n",
       "3                     0.0                         0.0                    A  \n",
       "4                    40.0                         0.0                    A  \n",
       "...                   ...                         ...                  ...  \n",
       "49995              1024.0                         0.0                    A  \n",
       "49996              1024.0                         0.0                    A  \n",
       "49997                 0.0                         0.0                    A  \n",
       "49998                40.0                         0.0                    A  \n",
       "49999              1024.0                         0.0                    A  \n",
       "\n",
       "[50000 rows x 13 columns]"
      ]
     },
     "execution_count": 4,
     "metadata": {},
     "output_type": "execute_result"
    }
   ],
   "source": [
    "data"
   ]
  },
  {
   "cell_type": "markdown",
   "metadata": {},
   "source": [
    "##### 2.2 Dataset Information"
   ]
  },
  {
   "cell_type": "markdown",
   "metadata": {},
   "source": [
    "* TOP 5 RECORDS OF THE DATASET"
   ]
  },
  {
   "cell_type": "code",
   "execution_count": 5,
   "metadata": {},
   "outputs": [
    {
     "data": {
      "text/html": [
       "<div>\n",
       "<style scoped>\n",
       "    .dataframe tbody tr th:only-of-type {\n",
       "        vertical-align: middle;\n",
       "    }\n",
       "\n",
       "    .dataframe tbody tr th {\n",
       "        vertical-align: top;\n",
       "    }\n",
       "\n",
       "    .dataframe thead th {\n",
       "        text-align: right;\n",
       "    }\n",
       "</style>\n",
       "<table border=\"1\" class=\"dataframe\">\n",
       "  <thead>\n",
       "    <tr style=\"text-align: right;\">\n",
       "      <th></th>\n",
       "      <th>timestamp</th>\n",
       "      <th>node</th>\n",
       "      <th>cpu_workloads</th>\n",
       "      <th>memory_workloads</th>\n",
       "      <th>nvidia_com_gpu_workloads</th>\n",
       "      <th>status</th>\n",
       "      <th>condition</th>\n",
       "      <th>scenario_workloads</th>\n",
       "      <th>uid</th>\n",
       "      <th>cpu_allocatable</th>\n",
       "      <th>memory_allocatable</th>\n",
       "      <th>nvidia_com_gpu_allocatable</th>\n",
       "      <th>scenario_allocatable</th>\n",
       "    </tr>\n",
       "  </thead>\n",
       "  <tbody>\n",
       "    <tr>\n",
       "      <th>0</th>\n",
       "      <td>2023-10-13 12:04:00</td>\n",
       "      <td>0xozF0md0I</td>\n",
       "      <td>7.91</td>\n",
       "      <td>14684.878906</td>\n",
       "      <td>0.0</td>\n",
       "      <td>NaN</td>\n",
       "      <td>NaN</td>\n",
       "      <td>1</td>\n",
       "      <td>0a7e3149-7520-44af-be02-6cb0ede2109d</td>\n",
       "      <td>0.100</td>\n",
       "      <td>0.0</td>\n",
       "      <td>0.0</td>\n",
       "      <td>A</td>\n",
       "    </tr>\n",
       "    <tr>\n",
       "      <th>1</th>\n",
       "      <td>2023-10-13 12:04:00</td>\n",
       "      <td>0xozF0md0I</td>\n",
       "      <td>7.91</td>\n",
       "      <td>14684.878906</td>\n",
       "      <td>0.0</td>\n",
       "      <td>NaN</td>\n",
       "      <td>NaN</td>\n",
       "      <td>1</td>\n",
       "      <td>327fff0d-3d9d-4c99-8e0d-f8581dfa7373</td>\n",
       "      <td>0.010</td>\n",
       "      <td>40.0</td>\n",
       "      <td>0.0</td>\n",
       "      <td>A</td>\n",
       "    </tr>\n",
       "    <tr>\n",
       "      <th>2</th>\n",
       "      <td>2023-10-13 12:04:00</td>\n",
       "      <td>0xozF0md0I</td>\n",
       "      <td>7.91</td>\n",
       "      <td>14684.878906</td>\n",
       "      <td>0.0</td>\n",
       "      <td>NaN</td>\n",
       "      <td>NaN</td>\n",
       "      <td>1</td>\n",
       "      <td>40054bfd-b720-4f90-86c2-974e227c178f</td>\n",
       "      <td>0.025</td>\n",
       "      <td>0.0</td>\n",
       "      <td>0.0</td>\n",
       "      <td>A</td>\n",
       "    </tr>\n",
       "    <tr>\n",
       "      <th>3</th>\n",
       "      <td>2023-10-13 12:04:00</td>\n",
       "      <td>1uYdt27oKb</td>\n",
       "      <td>7.91</td>\n",
       "      <td>14684.878906</td>\n",
       "      <td>0.0</td>\n",
       "      <td>NaN</td>\n",
       "      <td>NaN</td>\n",
       "      <td>1</td>\n",
       "      <td>234bebd4-85d4-4068-8dde-0b2a43fc7940</td>\n",
       "      <td>0.100</td>\n",
       "      <td>0.0</td>\n",
       "      <td>0.0</td>\n",
       "      <td>A</td>\n",
       "    </tr>\n",
       "    <tr>\n",
       "      <th>4</th>\n",
       "      <td>2023-10-13 12:04:00</td>\n",
       "      <td>1uYdt27oKb</td>\n",
       "      <td>7.91</td>\n",
       "      <td>14684.878906</td>\n",
       "      <td>0.0</td>\n",
       "      <td>NaN</td>\n",
       "      <td>NaN</td>\n",
       "      <td>1</td>\n",
       "      <td>8619d1f4-7029-4425-9f99-725dcb545709</td>\n",
       "      <td>0.010</td>\n",
       "      <td>40.0</td>\n",
       "      <td>0.0</td>\n",
       "      <td>A</td>\n",
       "    </tr>\n",
       "  </tbody>\n",
       "</table>\n",
       "</div>"
      ],
      "text/plain": [
       "             timestamp        node  cpu_workloads  memory_workloads  \\\n",
       "0  2023-10-13 12:04:00  0xozF0md0I           7.91      14684.878906   \n",
       "1  2023-10-13 12:04:00  0xozF0md0I           7.91      14684.878906   \n",
       "2  2023-10-13 12:04:00  0xozF0md0I           7.91      14684.878906   \n",
       "3  2023-10-13 12:04:00  1uYdt27oKb           7.91      14684.878906   \n",
       "4  2023-10-13 12:04:00  1uYdt27oKb           7.91      14684.878906   \n",
       "\n",
       "   nvidia_com_gpu_workloads status condition  scenario_workloads  \\\n",
       "0                       0.0    NaN       NaN                   1   \n",
       "1                       0.0    NaN       NaN                   1   \n",
       "2                       0.0    NaN       NaN                   1   \n",
       "3                       0.0    NaN       NaN                   1   \n",
       "4                       0.0    NaN       NaN                   1   \n",
       "\n",
       "                                    uid  cpu_allocatable  memory_allocatable  \\\n",
       "0  0a7e3149-7520-44af-be02-6cb0ede2109d            0.100                 0.0   \n",
       "1  327fff0d-3d9d-4c99-8e0d-f8581dfa7373            0.010                40.0   \n",
       "2  40054bfd-b720-4f90-86c2-974e227c178f            0.025                 0.0   \n",
       "3  234bebd4-85d4-4068-8dde-0b2a43fc7940            0.100                 0.0   \n",
       "4  8619d1f4-7029-4425-9f99-725dcb545709            0.010                40.0   \n",
       "\n",
       "   nvidia_com_gpu_allocatable scenario_allocatable  \n",
       "0                         0.0                    A  \n",
       "1                         0.0                    A  \n",
       "2                         0.0                    A  \n",
       "3                         0.0                    A  \n",
       "4                         0.0                    A  "
      ]
     },
     "execution_count": 5,
     "metadata": {},
     "output_type": "execute_result"
    }
   ],
   "source": [
    "data.head()"
   ]
  },
  {
   "cell_type": "markdown",
   "metadata": {},
   "source": [
    "* TOTAL NO OF ROWS & COLUMNS PRESENT IN THE DATASET"
   ]
  },
  {
   "cell_type": "code",
   "execution_count": 7,
   "metadata": {},
   "outputs": [
    {
     "name": "stdout",
     "output_type": "stream",
     "text": [
      "Total no of Rows in dataset \t\t:\t50000 \n",
      "Total no of Columns in dataset \t\t:\t13\n"
     ]
    }
   ],
   "source": [
    "rows,cols=data.shape\n",
    "print(f\"Total no of Rows in dataset \\t\\t:\\t{rows} \\nTotal no of Columns in dataset \\t\\t:\\t{cols}\")"
   ]
  },
  {
   "cell_type": "markdown",
   "metadata": {},
   "source": [
    "* DATATYPES OF THE ATTRIBUTES PRESENT IN THE DATASET "
   ]
  },
  {
   "cell_type": "code",
   "execution_count": 8,
   "metadata": {},
   "outputs": [
    {
     "data": {
      "text/plain": [
       "timestamp                      object\n",
       "node                           object\n",
       "cpu_workloads                 float64\n",
       "memory_workloads              float64\n",
       "nvidia_com_gpu_workloads      float64\n",
       "status                         object\n",
       "condition                      object\n",
       "scenario_workloads              int64\n",
       "uid                            object\n",
       "cpu_allocatable               float64\n",
       "memory_allocatable            float64\n",
       "nvidia_com_gpu_allocatable    float64\n",
       "scenario_allocatable           object\n",
       "dtype: object"
      ]
     },
     "execution_count": 8,
     "metadata": {},
     "output_type": "execute_result"
    }
   ],
   "source": [
    "data.dtypes"
   ]
  },
  {
   "cell_type": "markdown",
   "metadata": {},
   "source": [
    "* DESCRIPTION OF THE DATASET"
   ]
  },
  {
   "cell_type": "code",
   "execution_count": 9,
   "metadata": {},
   "outputs": [
    {
     "name": "stdout",
     "output_type": "stream",
     "text": [
      "<class 'pandas.core.frame.DataFrame'>\n",
      "RangeIndex: 50000 entries, 0 to 49999\n",
      "Data columns (total 13 columns):\n",
      " #   Column                      Non-Null Count  Dtype  \n",
      "---  ------                      --------------  -----  \n",
      " 0   timestamp                   50000 non-null  object \n",
      " 1   node                        50000 non-null  object \n",
      " 2   cpu_workloads               50000 non-null  float64\n",
      " 3   memory_workloads            50000 non-null  float64\n",
      " 4   nvidia_com_gpu_workloads    50000 non-null  float64\n",
      " 5   status                      44546 non-null  object \n",
      " 6   condition                   44546 non-null  object \n",
      " 7   scenario_workloads          50000 non-null  int64  \n",
      " 8   uid                         50000 non-null  object \n",
      " 9   cpu_allocatable             50000 non-null  float64\n",
      " 10  memory_allocatable          50000 non-null  float64\n",
      " 11  nvidia_com_gpu_allocatable  50000 non-null  float64\n",
      " 12  scenario_allocatable        50000 non-null  object \n",
      "dtypes: float64(6), int64(1), object(6)\n",
      "memory usage: 5.0+ MB\n"
     ]
    }
   ],
   "source": [
    "data.info()"
   ]
  },
  {
   "cell_type": "markdown",
   "metadata": {},
   "source": [
    "### 3. Data Preprocessing"
   ]
  },
  {
   "cell_type": "markdown",
   "metadata": {},
   "source": [
    " 3.1 Data Checks to Perform"
   ]
  },
  {
   "cell_type": "markdown",
   "metadata": {},
   "source": [
    "*  Check Missing Values"
   ]
  },
  {
   "cell_type": "code",
   "execution_count": 10,
   "metadata": {},
   "outputs": [
    {
     "data": {
      "text/plain": [
       "timestamp                        0\n",
       "node                             0\n",
       "cpu_workloads                    0\n",
       "memory_workloads                 0\n",
       "nvidia_com_gpu_workloads         0\n",
       "status                        5454\n",
       "condition                     5454\n",
       "scenario_workloads               0\n",
       "uid                              0\n",
       "cpu_allocatable                  0\n",
       "memory_allocatable               0\n",
       "nvidia_com_gpu_allocatable       0\n",
       "scenario_allocatable             0\n",
       "dtype: int64"
      ]
     },
     "execution_count": 10,
     "metadata": {},
     "output_type": "execute_result"
    }
   ],
   "source": [
    "data.isnull().sum()"
   ]
  },
  {
   "cell_type": "markdown",
   "metadata": {},
   "source": [
    "*  Check Duplicates"
   ]
  },
  {
   "cell_type": "code",
   "execution_count": 11,
   "metadata": {},
   "outputs": [
    {
     "data": {
      "text/plain": [
       "0"
      ]
     },
     "execution_count": 11,
     "metadata": {},
     "output_type": "execute_result"
    }
   ],
   "source": [
    "data.duplicated().sum()"
   ]
  },
  {
   "cell_type": "markdown",
   "metadata": {},
   "source": [
    "* Feature Engineering"
   ]
  },
  {
   "cell_type": "code",
   "execution_count": 12,
   "metadata": {},
   "outputs": [],
   "source": [
    "# Workload-to-Allocatable Ratios\n",
    "data['cpu_ratio'] = data['cpu_workloads'] / data['cpu_allocatable']"
   ]
  },
  {
   "cell_type": "code",
   "execution_count": 13,
   "metadata": {},
   "outputs": [],
   "source": [
    "# Total Workload\n",
    "data['total_workload'] = data['cpu_workloads'] + data['memory_workloads'] + data['nvidia_com_gpu_workloads']"
   ]
  },
  {
   "cell_type": "code",
   "execution_count": 14,
   "metadata": {},
   "outputs": [],
   "source": [
    "data['cpu_memory_interaction'] = data['cpu_workloads'] * data['memory_workloads']\n",
    "data['workload_allocatable_interaction'] = (data['cpu_workloads'] * data['cpu_allocatable']) +  (data['memory_workloads'] * data['memory_allocatable'])"
   ]
  },
  {
   "cell_type": "markdown",
   "metadata": {},
   "source": [
    "* Converting the Object into Int"
   ]
  },
  {
   "cell_type": "code",
   "execution_count": 15,
   "metadata": {},
   "outputs": [
    {
     "data": {
      "text/plain": [
       "timestamp                            object\n",
       "node                                 object\n",
       "cpu_workloads                       float64\n",
       "memory_workloads                    float64\n",
       "nvidia_com_gpu_workloads            float64\n",
       "status                               object\n",
       "condition                            object\n",
       "scenario_workloads                    int64\n",
       "uid                                  object\n",
       "cpu_allocatable                     float64\n",
       "memory_allocatable                  float64\n",
       "nvidia_com_gpu_allocatable          float64\n",
       "scenario_allocatable                 object\n",
       "cpu_ratio                           float64\n",
       "total_workload                      float64\n",
       "cpu_memory_interaction              float64\n",
       "workload_allocatable_interaction    float64\n",
       "dtype: object"
      ]
     },
     "execution_count": 15,
     "metadata": {},
     "output_type": "execute_result"
    }
   ],
   "source": [
    "data.dtypes"
   ]
  },
  {
   "cell_type": "code",
   "execution_count": 16,
   "metadata": {},
   "outputs": [],
   "source": [
    "data['timestamp']=data['timestamp'].str.replace(r'[^\\d]','',regex='True')\n",
    "data['timestamp']=pd.to_numeric(data['timestamp'], errors='coerce').astype('int64')"
   ]
  },
  {
   "cell_type": "code",
   "execution_count": 18,
   "metadata": {},
   "outputs": [],
   "source": [
    "data['cpu_workloads']=pd.to_numeric(data['cpu_workloads'], errors='coerce').astype('int64')\n",
    "data['memory_workloads']=pd.to_numeric(data['memory_workloads'], errors='coerce').astype('int64')\n",
    "data['nvidia_com_gpu_workloads']=pd.to_numeric(data['nvidia_com_gpu_workloads'], errors='coerce').astype('int64')\n",
    "data['cpu_allocatable']=pd.to_numeric(data['cpu_allocatable'], errors='coerce').astype('int64')\n",
    "data['memory_allocatable']=pd.to_numeric(data['memory_allocatable'], errors='coerce').astype('int64')\n",
    "data['nvidia_com_gpu_allocatable']=pd.to_numeric(data['nvidia_com_gpu_allocatable'], errors='coerce').astype('int64')\n",
    "data['cpu_ratio']=pd.to_numeric(data['cpu_ratio'], errors='coerce').astype('int64')\n",
    "data['total_workload']=pd.to_numeric(data['total_workload'], errors='coerce').astype('int64')\n",
    "data['cpu_memory_interaction']=pd.to_numeric(data['cpu_memory_interaction'], errors='coerce').astype('int64')\n",
    "data['workload_allocatable_interaction']=pd.to_numeric(data['workload_allocatable_interaction'], errors='coerce').astype('int64')"
   ]
  },
  {
   "cell_type": "code",
   "execution_count": 19,
   "metadata": {},
   "outputs": [],
   "source": [
    "label_encoder = LabelEncoder()\n",
    "\n",
    "categorical = ['node', 'status', 'condition', 'scenario_workloads', 'scenario_allocatable', 'uid']\n",
    "\n",
    "for col in categorical:\n",
    "    data[col] = label_encoder.fit_transform(data[col])"
   ]
  },
  {
   "cell_type": "code",
   "execution_count": 20,
   "metadata": {},
   "outputs": [
    {
     "data": {
      "text/html": [
       "<div>\n",
       "<style scoped>\n",
       "    .dataframe tbody tr th:only-of-type {\n",
       "        vertical-align: middle;\n",
       "    }\n",
       "\n",
       "    .dataframe tbody tr th {\n",
       "        vertical-align: top;\n",
       "    }\n",
       "\n",
       "    .dataframe thead th {\n",
       "        text-align: right;\n",
       "    }\n",
       "</style>\n",
       "<table border=\"1\" class=\"dataframe\">\n",
       "  <thead>\n",
       "    <tr style=\"text-align: right;\">\n",
       "      <th></th>\n",
       "      <th>timestamp</th>\n",
       "      <th>node</th>\n",
       "      <th>cpu_workloads</th>\n",
       "      <th>memory_workloads</th>\n",
       "      <th>nvidia_com_gpu_workloads</th>\n",
       "      <th>status</th>\n",
       "      <th>condition</th>\n",
       "      <th>scenario_workloads</th>\n",
       "      <th>uid</th>\n",
       "      <th>cpu_allocatable</th>\n",
       "      <th>memory_allocatable</th>\n",
       "      <th>nvidia_com_gpu_allocatable</th>\n",
       "      <th>scenario_allocatable</th>\n",
       "      <th>cpu_ratio</th>\n",
       "      <th>total_workload</th>\n",
       "      <th>cpu_memory_interaction</th>\n",
       "      <th>workload_allocatable_interaction</th>\n",
       "    </tr>\n",
       "  </thead>\n",
       "  <tbody>\n",
       "    <tr>\n",
       "      <th>0</th>\n",
       "      <td>20231013120400</td>\n",
       "      <td>0</td>\n",
       "      <td>7</td>\n",
       "      <td>14684</td>\n",
       "      <td>0</td>\n",
       "      <td>1</td>\n",
       "      <td>1</td>\n",
       "      <td>0</td>\n",
       "      <td>5</td>\n",
       "      <td>0</td>\n",
       "      <td>0</td>\n",
       "      <td>0</td>\n",
       "      <td>0</td>\n",
       "      <td>79</td>\n",
       "      <td>14692</td>\n",
       "      <td>116157</td>\n",
       "      <td>0</td>\n",
       "    </tr>\n",
       "    <tr>\n",
       "      <th>1</th>\n",
       "      <td>20231013120400</td>\n",
       "      <td>0</td>\n",
       "      <td>7</td>\n",
       "      <td>14684</td>\n",
       "      <td>0</td>\n",
       "      <td>1</td>\n",
       "      <td>1</td>\n",
       "      <td>0</td>\n",
       "      <td>37</td>\n",
       "      <td>0</td>\n",
       "      <td>40</td>\n",
       "      <td>0</td>\n",
       "      <td>0</td>\n",
       "      <td>791</td>\n",
       "      <td>14692</td>\n",
       "      <td>116157</td>\n",
       "      <td>587395</td>\n",
       "    </tr>\n",
       "    <tr>\n",
       "      <th>2</th>\n",
       "      <td>20231013120400</td>\n",
       "      <td>0</td>\n",
       "      <td>7</td>\n",
       "      <td>14684</td>\n",
       "      <td>0</td>\n",
       "      <td>1</td>\n",
       "      <td>1</td>\n",
       "      <td>0</td>\n",
       "      <td>48</td>\n",
       "      <td>0</td>\n",
       "      <td>0</td>\n",
       "      <td>0</td>\n",
       "      <td>0</td>\n",
       "      <td>316</td>\n",
       "      <td>14692</td>\n",
       "      <td>116157</td>\n",
       "      <td>0</td>\n",
       "    </tr>\n",
       "    <tr>\n",
       "      <th>3</th>\n",
       "      <td>20231013120400</td>\n",
       "      <td>1</td>\n",
       "      <td>7</td>\n",
       "      <td>14684</td>\n",
       "      <td>0</td>\n",
       "      <td>1</td>\n",
       "      <td>1</td>\n",
       "      <td>0</td>\n",
       "      <td>23</td>\n",
       "      <td>0</td>\n",
       "      <td>0</td>\n",
       "      <td>0</td>\n",
       "      <td>0</td>\n",
       "      <td>79</td>\n",
       "      <td>14692</td>\n",
       "      <td>116157</td>\n",
       "      <td>0</td>\n",
       "    </tr>\n",
       "    <tr>\n",
       "      <th>4</th>\n",
       "      <td>20231013120400</td>\n",
       "      <td>1</td>\n",
       "      <td>7</td>\n",
       "      <td>14684</td>\n",
       "      <td>0</td>\n",
       "      <td>1</td>\n",
       "      <td>1</td>\n",
       "      <td>0</td>\n",
       "      <td>113</td>\n",
       "      <td>0</td>\n",
       "      <td>40</td>\n",
       "      <td>0</td>\n",
       "      <td>0</td>\n",
       "      <td>791</td>\n",
       "      <td>14692</td>\n",
       "      <td>116157</td>\n",
       "      <td>587395</td>\n",
       "    </tr>\n",
       "  </tbody>\n",
       "</table>\n",
       "</div>"
      ],
      "text/plain": [
       "        timestamp  node  cpu_workloads  memory_workloads  \\\n",
       "0  20231013120400     0              7             14684   \n",
       "1  20231013120400     0              7             14684   \n",
       "2  20231013120400     0              7             14684   \n",
       "3  20231013120400     1              7             14684   \n",
       "4  20231013120400     1              7             14684   \n",
       "\n",
       "   nvidia_com_gpu_workloads  status  condition  scenario_workloads  uid  \\\n",
       "0                         0       1          1                   0    5   \n",
       "1                         0       1          1                   0   37   \n",
       "2                         0       1          1                   0   48   \n",
       "3                         0       1          1                   0   23   \n",
       "4                         0       1          1                   0  113   \n",
       "\n",
       "   cpu_allocatable  memory_allocatable  nvidia_com_gpu_allocatable  \\\n",
       "0                0                   0                           0   \n",
       "1                0                  40                           0   \n",
       "2                0                   0                           0   \n",
       "3                0                   0                           0   \n",
       "4                0                  40                           0   \n",
       "\n",
       "   scenario_allocatable  cpu_ratio  total_workload  cpu_memory_interaction  \\\n",
       "0                     0         79           14692                  116157   \n",
       "1                     0        791           14692                  116157   \n",
       "2                     0        316           14692                  116157   \n",
       "3                     0         79           14692                  116157   \n",
       "4                     0        791           14692                  116157   \n",
       "\n",
       "   workload_allocatable_interaction  \n",
       "0                                 0  \n",
       "1                            587395  \n",
       "2                                 0  \n",
       "3                                 0  \n",
       "4                            587395  "
      ]
     },
     "execution_count": 20,
     "metadata": {},
     "output_type": "execute_result"
    }
   ],
   "source": [
    "data.head()"
   ]
  },
  {
   "cell_type": "code",
   "execution_count": 21,
   "metadata": {},
   "outputs": [],
   "source": [
    "scaler = StandardScaler()\n",
    "data= scaler.fit_transform(data)"
   ]
  },
  {
   "cell_type": "code",
   "execution_count": 22,
   "metadata": {},
   "outputs": [
    {
     "data": {
      "text/plain": [
       "array([[-1.49777989, -1.91849583, -1.4312024 , ..., -1.31492526,\n",
       "        -1.77579529, -0.36453985],\n",
       "       [-1.49777989, -1.91849583, -1.4312024 , ..., -1.31492526,\n",
       "        -1.77579529, -0.35887867],\n",
       "       [-1.49777989, -1.91849583, -1.4312024 , ..., -1.31492526,\n",
       "        -1.77579529, -0.36453985],\n",
       "       ...,\n",
       "       [ 2.22996453,  0.55325112,  0.74382214, ...,  0.06179642,\n",
       "         0.53898666, -0.36453985],\n",
       "       [ 2.22996453,  0.55325112,  0.74382214, ...,  0.06179642,\n",
       "         0.53898666, -0.34132781],\n",
       "       [ 2.22996453,  0.55325112,  0.74382214, ...,  0.06179642,\n",
       "         0.53898666,  0.22968854]])"
      ]
     },
     "execution_count": 22,
     "metadata": {},
     "output_type": "execute_result"
    }
   ],
   "source": [
    "data"
   ]
  },
  {
   "cell_type": "code",
   "execution_count": null,
   "metadata": {},
   "outputs": [],
   "source": []
  }
 ],
 "metadata": {
  "kernelspec": {
   "display_name": "base",
   "language": "python",
   "name": "python3"
  },
  "language_info": {
   "codemirror_mode": {
    "name": "ipython",
    "version": 3
   },
   "file_extension": ".py",
   "mimetype": "text/x-python",
   "name": "python",
   "nbconvert_exporter": "python",
   "pygments_lexer": "ipython3",
   "version": "3.12.7"
  }
 },
 "nbformat": 4,
 "nbformat_minor": 2
}
